{
 "cells": [
  {
   "cell_type": "markdown",
   "metadata": {},
   "source": [
    "# LIVE FACE DETECTION\n"
   ]
  },
  {
   "cell_type": "code",
   "execution_count": 6,
   "metadata": {},
   "outputs": [],
   "source": [
    "# import the modules\n",
    "import cv2\n",
    "\n"
   ]
  },
  {
   "cell_type": "markdown",
   "metadata": {},
   "source": [
    "## HAARCASCADE FILES IMPORTING"
   ]
  },
  {
   "cell_type": "code",
   "execution_count": 7,
   "metadata": {},
   "outputs": [],
   "source": [
    "# now we have the haarcascades files \n",
    "# to detect the face and eyes to detect the face\n",
    "faces=cv2.CascadeClassifier('Haarcascades/haarcascade_frontalface_default.xml')\n",
    "\n",
    "# to detect the eyes\n",
    "eyes=cv2.CascadeClassifier(\"Haarcascades/haarcascade_eye.xml\")\n",
    "\n"
   ]
  },
  {
   "cell_type": "markdown",
   "metadata": {},
   "source": [
    "## WEBCAM TURN ON"
   ]
  },
  {
   "cell_type": "code",
   "execution_count": 8,
   "metadata": {},
   "outputs": [],
   "source": [
    "# capture the frame through webcam\n",
    "capture=cv2.VideoCapture(0)"
   ]
  },
  {
   "cell_type": "markdown",
   "metadata": {},
   "source": [
    "## LOOP FOR FACE AND EYE DETECTION"
   ]
  },
  {
   "cell_type": "code",
   "execution_count": 9,
   "metadata": {},
   "outputs": [],
   "source": [
    "# now running the loop for the webcam\n",
    "while True:\n",
    "    # reading the webcam\n",
    "    ret,frame=capture.read()\n",
    "\n",
    "    # now the face is in the frame\n",
    "    # the detection is done with the gray scale frame\n",
    "    gray_frame=cv2.cvtColor(frame,cv2.COLOR_BGR2GRAY)\n",
    "    face=faces.detectMultiScale(gray_frame,1.3,5)\n",
    "\n",
    "    # now getting into the face and its position\n",
    "    for (x,y,w,h) in face:\n",
    "        # drawing the rectangle on the face\n",
    "        cv2.rectangle(frame,(x,y),(x+w,y+h),(0,0,255),thickness=4)\n",
    "\n",
    "        # now the eyes are on the face\n",
    "        # so we have to make the face frame gray\n",
    "        gray_face=gray_frame[y:y+h,x:x+w]\n",
    "\n",
    "        # make the color face also\n",
    "        color_face=frame[y:y+h,x:x+w]\n",
    "\n",
    "        # check the eyes on this face\n",
    "        eye=eyes.detectMultiScale(gray_face,1.3,5)\n",
    "\n",
    "        # get into the eyes with its position\n",
    "        for (a,b,c,d) in eye:\n",
    "            # we have to draw the rectangle on the\n",
    "            # coloured face\n",
    "            cv2.rectangle(color_face,(a,b),(a+c,b+d),(0,255,0),thickness=4)\n",
    "\n",
    "    # show the frame\n",
    "    cv2.imshow(\"live stream\",frame)\n",
    "    if cv2.waitKey(1)==13:\n",
    "        break\n",
    "        \n",
    "# after ending the loop release the frame\n",
    "capture.release()\n",
    "cv2.destroyAllWindows()\n"
   ]
  },
  {
   "cell_type": "markdown",
   "metadata": {},
   "source": [
    "## \n",
    "\n",
    "THANKS FOR WATCHING\n"
   ]
  },
  {
   "cell_type": "code",
   "execution_count": null,
   "metadata": {},
   "outputs": [],
   "source": []
  }
 ],
 "metadata": {
  "kernelspec": {
   "display_name": "Python 3",
   "language": "python",
   "name": "python3"
  },
  "language_info": {
   "codemirror_mode": {
    "name": "ipython",
    "version": 3
   },
   "file_extension": ".py",
   "mimetype": "text/x-python",
   "name": "python",
   "nbconvert_exporter": "python",
   "pygments_lexer": "ipython3",
   "version": "3.7.4"
  }
 },
 "nbformat": 4,
 "nbformat_minor": 2
}
